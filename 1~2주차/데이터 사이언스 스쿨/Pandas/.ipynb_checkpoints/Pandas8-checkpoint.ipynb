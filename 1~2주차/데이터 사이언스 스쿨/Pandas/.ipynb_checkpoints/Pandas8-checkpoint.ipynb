{
 "cells": [
  {
   "cell_type": "code",
   "execution_count": 1,
   "id": "f95c8282",
   "metadata": {},
   "outputs": [],
   "source": [
    "import pandas as pd\n",
    "import numpy as np"
   ]
  },
  {
   "cell_type": "code",
   "execution_count": 4,
   "id": "f248beea",
   "metadata": {},
   "outputs": [
    {
     "data": {
      "text/plain": [
       "DatetimeIndex(['2018-01-01', '2018-01-04', '2018-01-05', '2018-01-06'], dtype='datetime64[ns]', freq=None)"
      ]
     },
     "execution_count": 4,
     "metadata": {},
     "output_type": "execute_result"
    }
   ],
   "source": [
    "date_str = ['2018, 1, 1', '2018, 1, 4', '2018, 1, 5', '2018, 1, 6']\n",
    "idx = pd.to_datetime(date_str)\n",
    "idx"
   ]
  },
  {
   "cell_type": "code",
   "execution_count": 5,
   "id": "06653dfa",
   "metadata": {},
   "outputs": [
    {
     "data": {
      "text/plain": [
       "2018-01-01    1.764052\n",
       "2018-01-04    0.400157\n",
       "2018-01-05    0.978738\n",
       "2018-01-06    2.240893\n",
       "dtype: float64"
      ]
     },
     "execution_count": 5,
     "metadata": {},
     "output_type": "execute_result"
    }
   ],
   "source": [
    "np.random.seed(0)\n",
    "s = pd.Series(np.random.randn(4), index = idx)\n",
    "s"
   ]
  },
  {
   "cell_type": "code",
   "execution_count": 6,
   "id": "d6c2e0ec",
   "metadata": {},
   "outputs": [
    {
     "data": {
      "text/plain": [
       "DatetimeIndex(['2022-01-01', '2022-01-02', '2022-01-03', '2022-01-04',\n",
       "               '2022-01-05', '2022-01-06', '2022-01-07', '2022-01-08',\n",
       "               '2022-01-09', '2022-01-10', '2022-01-11', '2022-01-12',\n",
       "               '2022-01-13', '2022-01-14', '2022-01-15', '2022-01-16',\n",
       "               '2022-01-17', '2022-01-18', '2022-01-19', '2022-01-20',\n",
       "               '2022-01-21', '2022-01-22', '2022-01-23', '2022-01-24',\n",
       "               '2022-01-25', '2022-01-26', '2022-01-27', '2022-01-28',\n",
       "               '2022-01-29', '2022-01-30', '2022-01-31'],\n",
       "              dtype='datetime64[ns]', freq='D')"
      ]
     },
     "execution_count": 6,
     "metadata": {},
     "output_type": "execute_result"
    }
   ],
   "source": [
    "pd.date_range('2022-1-1', '2022-1-31')"
   ]
  },
  {
   "cell_type": "code",
   "execution_count": 8,
   "id": "13bd2997",
   "metadata": {},
   "outputs": [
    {
     "data": {
      "text/plain": [
       "DatetimeIndex(['2022-01-01', '2022-01-02', '2022-01-03', '2022-01-04',\n",
       "               '2022-01-05', '2022-01-06', '2022-01-07', '2022-01-08',\n",
       "               '2022-01-09', '2022-01-10', '2022-01-11', '2022-01-12',\n",
       "               '2022-01-13', '2022-01-14', '2022-01-15', '2022-01-16',\n",
       "               '2022-01-17', '2022-01-18', '2022-01-19', '2022-01-20',\n",
       "               '2022-01-21', '2022-01-22', '2022-01-23', '2022-01-24',\n",
       "               '2022-01-25', '2022-01-26', '2022-01-27', '2022-01-28',\n",
       "               '2022-01-29', '2022-01-30', '2022-01-31'],\n",
       "              dtype='datetime64[ns]', freq='D')"
      ]
     },
     "execution_count": 8,
     "metadata": {},
     "output_type": "execute_result"
    }
   ],
   "source": [
    "pd.date_range('2022-1-1', periods=31)"
   ]
  },
  {
   "cell_type": "code",
   "execution_count": 9,
   "id": "eae22a4b",
   "metadata": {},
   "outputs": [
    {
     "data": {
      "text/plain": [
       "DatetimeIndex(['2022-01-03', '2022-01-04', '2022-01-05', '2022-01-06',\n",
       "               '2022-01-07', '2022-01-10', '2022-01-11', '2022-01-12',\n",
       "               '2022-01-13', '2022-01-14', '2022-01-17', '2022-01-18',\n",
       "               '2022-01-19', '2022-01-20', '2022-01-21', '2022-01-24',\n",
       "               '2022-01-25', '2022-01-26', '2022-01-27', '2022-01-28',\n",
       "               '2022-01-31'],\n",
       "              dtype='datetime64[ns]', freq='B')"
      ]
     },
     "execution_count": 9,
     "metadata": {},
     "output_type": "execute_result"
    }
   ],
   "source": [
    "pd.date_range('2022-1-1', '2022-1-31', freq = 'B')"
   ]
  },
  {
   "cell_type": "code",
   "execution_count": 10,
   "id": "13fd73f2",
   "metadata": {},
   "outputs": [
    {
     "data": {
      "text/plain": [
       "DatetimeIndex(['2022-01-02', '2022-01-09', '2022-01-16', '2022-01-23',\n",
       "               '2022-01-30'],\n",
       "              dtype='datetime64[ns]', freq='W-SUN')"
      ]
     },
     "execution_count": 10,
     "metadata": {},
     "output_type": "execute_result"
    }
   ],
   "source": [
    "pd.date_range('2022-1-1', '2022-1-31', freq = 'W')"
   ]
  },
  {
   "cell_type": "code",
   "execution_count": 11,
   "id": "7bc0c761",
   "metadata": {},
   "outputs": [
    {
     "data": {
      "text/plain": [
       "DatetimeIndex(['2022-01-03', '2022-01-10', '2022-01-17', '2022-01-24',\n",
       "               '2022-01-31'],\n",
       "              dtype='datetime64[ns]', freq='W-MON')"
      ]
     },
     "execution_count": 11,
     "metadata": {},
     "output_type": "execute_result"
    }
   ],
   "source": [
    "pd.date_range('2022-1-1', '2022-1-31', freq = 'W-MON')"
   ]
  },
  {
   "cell_type": "code",
   "execution_count": 12,
   "id": "426ebe02",
   "metadata": {},
   "outputs": [
    {
     "data": {
      "text/plain": [
       "DatetimeIndex(['2022-01-01'], dtype='datetime64[ns]', freq='MS')"
      ]
     },
     "execution_count": 12,
     "metadata": {},
     "output_type": "execute_result"
    }
   ],
   "source": [
    "pd.date_range('2022-1-1', '2022-1-31', freq = 'MS')"
   ]
  },
  {
   "cell_type": "code",
   "execution_count": 13,
   "id": "705183d9",
   "metadata": {},
   "outputs": [
    {
     "data": {
      "text/plain": [
       "DatetimeIndex(['2022-01-31'], dtype='datetime64[ns]', freq='M')"
      ]
     },
     "execution_count": 13,
     "metadata": {},
     "output_type": "execute_result"
    }
   ],
   "source": [
    "pd.date_range('2022-1-1', '2022-1-31', freq = 'M')"
   ]
  },
  {
   "cell_type": "code",
   "execution_count": 14,
   "id": "710640cb",
   "metadata": {},
   "outputs": [
    {
     "data": {
      "text/plain": [
       "DatetimeIndex(['2022-01-03', '2022-02-01', '2022-03-01', '2022-04-01',\n",
       "               '2022-05-02', '2022-06-01', '2022-07-01', '2022-08-01',\n",
       "               '2022-09-01', '2022-10-03', '2022-11-01', '2022-12-01'],\n",
       "              dtype='datetime64[ns]', freq='BMS')"
      ]
     },
     "execution_count": 14,
     "metadata": {},
     "output_type": "execute_result"
    }
   ],
   "source": [
    "pd.date_range('2022-1-1', '2022-12-31', freq = 'BMS')"
   ]
  },
  {
   "cell_type": "code",
   "execution_count": 15,
   "id": "9e89d7dc",
   "metadata": {},
   "outputs": [
    {
     "data": {
      "text/plain": [
       "DatetimeIndex(['2022-01-31', '2022-02-28', '2022-03-31', '2022-04-29',\n",
       "               '2022-05-31', '2022-06-30', '2022-07-29', '2022-08-31',\n",
       "               '2022-09-30', '2022-10-31', '2022-11-30', '2022-12-30'],\n",
       "              dtype='datetime64[ns]', freq='BM')"
      ]
     },
     "execution_count": 15,
     "metadata": {},
     "output_type": "execute_result"
    }
   ],
   "source": [
    "pd.date_range('2022-1-1', '2022-12-31', freq = 'BM')"
   ]
  },
  {
   "cell_type": "code",
   "execution_count": 17,
   "id": "cdff8561",
   "metadata": {},
   "outputs": [
    {
     "data": {
      "text/plain": [
       "DatetimeIndex(['2022-01-17', '2022-02-21', '2022-03-21', '2022-04-18',\n",
       "               '2022-05-16', '2022-06-20', '2022-07-18', '2022-08-15',\n",
       "               '2022-09-19', '2022-10-17', '2022-11-21', '2022-12-19'],\n",
       "              dtype='datetime64[ns]', freq='WOM-3MON')"
      ]
     },
     "execution_count": 17,
     "metadata": {},
     "output_type": "execute_result"
    }
   ],
   "source": [
    "pd.date_range('2022-1-1', '2022-12-31', freq = 'WOM-2THU')"
   ]
  },
  {
   "cell_type": "code",
   "execution_count": 18,
   "id": "7e0bae90",
   "metadata": {},
   "outputs": [
    {
     "data": {
      "text/plain": [
       "DatetimeIndex(['2022-01-31', '2022-04-30', '2022-07-31', '2022-10-31'], dtype='datetime64[ns]', freq='Q-JAN')"
      ]
     },
     "execution_count": 18,
     "metadata": {},
     "output_type": "execute_result"
    }
   ],
   "source": [
    "pd.date_range('2022-1-1', '2022-12-31', freq = 'Q-JAN')"
   ]
  },
  {
   "cell_type": "code",
   "execution_count": 19,
   "id": "bc2c5bd5",
   "metadata": {},
   "outputs": [
    {
     "data": {
      "text/plain": [
       "DatetimeIndex(['2022-03-31', '2022-06-30', '2022-09-30', '2022-12-31'], dtype='datetime64[ns]', freq='Q-DEC')"
      ]
     },
     "execution_count": 19,
     "metadata": {},
     "output_type": "execute_result"
    }
   ],
   "source": [
    "pd.date_range('2022-1-1', '2022-12-31', freq = 'Q-DEC')"
   ]
  },
  {
   "cell_type": "code",
   "execution_count": 21,
   "id": "a44cc3e4",
   "metadata": {},
   "outputs": [
    {
     "data": {
      "text/plain": [
       "2022-01-31    1.764052\n",
       "2022-02-28    0.400157\n",
       "2022-03-31    0.978738\n",
       "2022-04-30    2.240893\n",
       "Freq: M, dtype: float64"
      ]
     },
     "execution_count": 21,
     "metadata": {},
     "output_type": "execute_result"
    }
   ],
   "source": [
    "np.random.seed(0)\n",
    "ts = pd.Series(np.random.randn(4),index = pd.date_range(\"2022-1-1\", periods = 4, freq = 'M'))\n",
    "ts"
   ]
  },
  {
   "cell_type": "code",
   "execution_count": 22,
   "id": "37981152",
   "metadata": {},
   "outputs": [
    {
     "data": {
      "text/plain": [
       "2022-01-31         NaN\n",
       "2022-02-28    1.764052\n",
       "2022-03-31    0.400157\n",
       "2022-04-30    0.978738\n",
       "Freq: M, dtype: float64"
      ]
     },
     "execution_count": 22,
     "metadata": {},
     "output_type": "execute_result"
    }
   ],
   "source": [
    "ts.shift(1)"
   ]
  },
  {
   "cell_type": "code",
   "execution_count": 23,
   "id": "89a24361",
   "metadata": {},
   "outputs": [
    {
     "data": {
      "text/plain": [
       "2022-01-31    0.400157\n",
       "2022-02-28    0.978738\n",
       "2022-03-31    2.240893\n",
       "2022-04-30         NaN\n",
       "Freq: M, dtype: float64"
      ]
     },
     "execution_count": 23,
     "metadata": {},
     "output_type": "execute_result"
    }
   ],
   "source": [
    "ts.shift(-1)"
   ]
  },
  {
   "cell_type": "code",
   "execution_count": 27,
   "id": "623df87f",
   "metadata": {},
   "outputs": [
    {
     "data": {
      "text/plain": [
       "2022-02-28    1.764052\n",
       "2022-03-31    0.400157\n",
       "2022-04-30    0.978738\n",
       "2022-05-31    2.240893\n",
       "Freq: M, dtype: float64"
      ]
     },
     "execution_count": 27,
     "metadata": {},
     "output_type": "execute_result"
    }
   ],
   "source": [
    "ts.shift(1, freq = \"M\")"
   ]
  },
  {
   "cell_type": "code",
   "execution_count": 34,
   "id": "1f349b42",
   "metadata": {},
   "outputs": [
    {
     "data": {
      "text/plain": [
       "2022-02-06    1.764052\n",
       "2022-03-06    0.400157\n",
       "2022-04-03    0.978738\n",
       "2022-05-01    2.240893\n",
       "dtype: float64"
      ]
     },
     "execution_count": 34,
     "metadata": {},
     "output_type": "execute_result"
    }
   ],
   "source": [
    "ts.shift(1, freq = \"W\")"
   ]
  },
  {
   "cell_type": "code",
   "execution_count": 38,
   "id": "d1e12b19",
   "metadata": {},
   "outputs": [
    {
     "data": {
      "text/plain": [
       "2018-03-22    1.488252\n",
       "2018-03-23    1.895889\n",
       "2018-03-24    1.178780\n",
       "2018-03-25   -0.179925\n",
       "2018-03-26   -1.070753\n",
       "2018-03-27    1.054452\n",
       "2018-03-28   -0.403177\n",
       "2018-03-29    1.222445\n",
       "2018-03-30    0.208275\n",
       "2018-03-31    0.976639\n",
       "2018-04-01    0.356366\n",
       "2018-04-02    0.706573\n",
       "2018-04-03    0.010500\n",
       "2018-04-04    1.785870\n",
       "2018-04-05    0.126912\n",
       "2018-04-06    0.401989\n",
       "2018-04-07    1.883151\n",
       "2018-04-08   -1.347759\n",
       "2018-04-09   -1.270485\n",
       "2018-04-10    0.969397\n",
       "Freq: D, dtype: float64"
      ]
     },
     "execution_count": 38,
     "metadata": {},
     "output_type": "execute_result"
    }
   ],
   "source": [
    "ts = pd.Series(np.random.randn(100), index=pd.date_range(\n",
    "    \"2018-1-1\", periods=100, freq=\"D\"))\n",
    "ts.tail(20)"
   ]
  },
  {
   "cell_type": "code",
   "execution_count": 41,
   "id": "a240b4ea",
   "metadata": {},
   "outputs": [
    {
     "data": {
      "text/plain": [
       "2018-01-07    0.305776\n",
       "2018-01-14    0.629064\n",
       "2018-01-21   -0.006910\n",
       "2018-01-28    0.277065\n",
       "2018-02-04   -0.144972\n",
       "2018-02-11   -0.496299\n",
       "2018-02-18   -0.474473\n",
       "2018-02-25   -0.201222\n",
       "2018-03-04   -0.775142\n",
       "2018-03-11    0.052868\n",
       "2018-03-18   -0.450379\n",
       "2018-03-25    0.601892\n",
       "2018-04-01    0.334893\n",
       "2018-04-08    0.509605\n",
       "2018-04-15   -0.150544\n",
       "Freq: W-SUN, dtype: float64"
      ]
     },
     "execution_count": 41,
     "metadata": {},
     "output_type": "execute_result"
    }
   ],
   "source": [
    "ts.resample('W').mean()"
   ]
  },
  {
   "cell_type": "code",
   "execution_count": 42,
   "id": "d2c1a029",
   "metadata": {},
   "outputs": [
    {
     "data": {
      "text/plain": [
       "2018-01-31    1.867558\n",
       "2018-02-28    0.156349\n",
       "2018-03-31   -1.726283\n",
       "2018-04-30    0.356366\n",
       "Freq: M, dtype: float64"
      ]
     },
     "execution_count": 42,
     "metadata": {},
     "output_type": "execute_result"
    }
   ],
   "source": [
    "ts.resample('M').first()"
   ]
  },
  {
   "cell_type": "code",
   "execution_count": 47,
   "id": "c72222b7",
   "metadata": {},
   "outputs": [
    {
     "data": {
      "text/plain": [
       "2022-01-01 00:00:00   -0.364694\n",
       "2022-01-01 00:01:00    0.156704\n",
       "2022-01-01 00:02:00    0.578521\n",
       "2022-01-01 00:03:00    0.349654\n",
       "2022-01-01 00:04:00   -0.764144\n",
       "2022-01-01 00:05:00   -1.437791\n",
       "2022-01-01 00:06:00    1.364532\n",
       "2022-01-01 00:07:00   -0.689449\n",
       "2022-01-01 00:08:00   -0.652294\n",
       "2022-01-01 00:09:00   -0.521189\n",
       "2022-01-01 00:10:00   -1.843070\n",
       "2022-01-01 00:11:00   -0.477974\n",
       "2022-01-01 00:12:00   -0.479656\n",
       "2022-01-01 00:13:00    0.620358\n",
       "2022-01-01 00:14:00    0.698457\n",
       "2022-01-01 00:15:00    0.003771\n",
       "2022-01-01 00:16:00    0.931848\n",
       "2022-01-01 00:17:00    0.339965\n",
       "2022-01-01 00:18:00   -0.015682\n",
       "2022-01-01 00:19:00    0.160928\n",
       "2022-01-01 00:20:00   -0.190653\n",
       "2022-01-01 00:21:00   -0.394850\n",
       "2022-01-01 00:22:00   -0.267734\n",
       "2022-01-01 00:23:00   -1.128011\n",
       "2022-01-01 00:24:00    0.280442\n",
       "2022-01-01 00:25:00   -0.993124\n",
       "2022-01-01 00:26:00    0.841631\n",
       "2022-01-01 00:27:00   -0.249459\n",
       "2022-01-01 00:28:00    0.049495\n",
       "2022-01-01 00:29:00    0.493837\n",
       "2022-01-01 00:30:00    0.643314\n",
       "2022-01-01 00:31:00   -1.570623\n",
       "2022-01-01 00:32:00   -0.206904\n",
       "2022-01-01 00:33:00    0.880179\n",
       "2022-01-01 00:34:00   -1.698106\n",
       "2022-01-01 00:35:00    0.387280\n",
       "2022-01-01 00:36:00   -2.255564\n",
       "2022-01-01 00:37:00   -1.022507\n",
       "2022-01-01 00:38:00    0.038631\n",
       "2022-01-01 00:39:00   -1.656715\n",
       "2022-01-01 00:40:00   -0.985511\n",
       "2022-01-01 00:41:00   -1.471835\n",
       "2022-01-01 00:42:00    1.648135\n",
       "2022-01-01 00:43:00    0.164228\n",
       "2022-01-01 00:44:00    0.567290\n",
       "2022-01-01 00:45:00   -0.222675\n",
       "2022-01-01 00:46:00   -0.353432\n",
       "2022-01-01 00:47:00   -1.616474\n",
       "2022-01-01 00:48:00   -0.291837\n",
       "2022-01-01 00:49:00   -0.761492\n",
       "2022-01-01 00:50:00    0.857924\n",
       "2022-01-01 00:51:00    1.141102\n",
       "2022-01-01 00:52:00    1.466579\n",
       "2022-01-01 00:53:00    0.852552\n",
       "2022-01-01 00:54:00   -0.598654\n",
       "2022-01-01 00:55:00   -1.115897\n",
       "2022-01-01 00:56:00    0.766663\n",
       "2022-01-01 00:57:00    0.356293\n",
       "2022-01-01 00:58:00   -1.768538\n",
       "2022-01-01 00:59:00    0.355482\n",
       "Freq: T, dtype: float64"
      ]
     },
     "execution_count": 47,
     "metadata": {},
     "output_type": "execute_result"
    }
   ],
   "source": [
    "ts = pd.Series(np.random.randn(60), index = pd.date_range(\"2022-1-1\", periods = 60, freq = \"T\"))\n",
    "ts"
   ]
  },
  {
   "cell_type": "code",
   "execution_count": 48,
   "id": "d1631bb0",
   "metadata": {},
   "outputs": [
    {
     "data": {
      "text/plain": [
       "2022-01-01 00:00:00   -1.980149\n",
       "2022-01-01 00:10:00   -0.061054\n",
       "2022-01-01 00:20:00   -1.558425\n",
       "2022-01-01 00:30:00   -6.461015\n",
       "2022-01-01 00:40:00   -3.323603\n",
       "2022-01-01 00:50:00    2.313505\n",
       "Freq: 10T, dtype: float64"
      ]
     },
     "execution_count": 48,
     "metadata": {},
     "output_type": "execute_result"
    }
   ],
   "source": [
    "ts.resample('10T').sum()"
   ]
  },
  {
   "cell_type": "code",
   "execution_count": 52,
   "id": "6cc94a63",
   "metadata": {},
   "outputs": [
    {
     "data": {
      "text/plain": [
       "2021-12-31 23:50:00   -0.364694\n",
       "2022-01-01 00:00:00   -3.458525\n",
       "2022-01-01 00:10:00    1.591362\n",
       "2022-01-01 00:20:00   -0.724457\n",
       "2022-01-01 00:30:00   -8.089840\n",
       "2022-01-01 00:40:00   -1.480169\n",
       "2022-01-01 00:50:00    1.455581\n",
       "Freq: 10T, dtype: float64"
      ]
     },
     "execution_count": 52,
     "metadata": {},
     "output_type": "execute_result"
    }
   ],
   "source": [
    "ts.resample('10T', closed = 'right').sum()"
   ]
  },
  {
   "cell_type": "code",
   "execution_count": 53,
   "id": "08084ee6",
   "metadata": {},
   "outputs": [
    {
     "data": {
      "text/html": [
       "<div>\n",
       "<style scoped>\n",
       "    .dataframe tbody tr th:only-of-type {\n",
       "        vertical-align: middle;\n",
       "    }\n",
       "\n",
       "    .dataframe tbody tr th {\n",
       "        vertical-align: top;\n",
       "    }\n",
       "\n",
       "    .dataframe thead th {\n",
       "        text-align: right;\n",
       "    }\n",
       "</style>\n",
       "<table border=\"1\" class=\"dataframe\">\n",
       "  <thead>\n",
       "    <tr style=\"text-align: right;\">\n",
       "      <th></th>\n",
       "      <th>open</th>\n",
       "      <th>high</th>\n",
       "      <th>low</th>\n",
       "      <th>close</th>\n",
       "    </tr>\n",
       "  </thead>\n",
       "  <tbody>\n",
       "    <tr>\n",
       "      <th>2022-01-01 00:00:00</th>\n",
       "      <td>-0.364694</td>\n",
       "      <td>0.578521</td>\n",
       "      <td>-0.764144</td>\n",
       "      <td>-0.764144</td>\n",
       "    </tr>\n",
       "    <tr>\n",
       "      <th>2022-01-01 00:05:00</th>\n",
       "      <td>-1.437791</td>\n",
       "      <td>1.364532</td>\n",
       "      <td>-1.437791</td>\n",
       "      <td>-0.521189</td>\n",
       "    </tr>\n",
       "    <tr>\n",
       "      <th>2022-01-01 00:10:00</th>\n",
       "      <td>-1.843070</td>\n",
       "      <td>0.698457</td>\n",
       "      <td>-1.843070</td>\n",
       "      <td>0.698457</td>\n",
       "    </tr>\n",
       "    <tr>\n",
       "      <th>2022-01-01 00:15:00</th>\n",
       "      <td>0.003771</td>\n",
       "      <td>0.931848</td>\n",
       "      <td>-0.015682</td>\n",
       "      <td>0.160928</td>\n",
       "    </tr>\n",
       "    <tr>\n",
       "      <th>2022-01-01 00:20:00</th>\n",
       "      <td>-0.190653</td>\n",
       "      <td>0.280442</td>\n",
       "      <td>-1.128011</td>\n",
       "      <td>0.280442</td>\n",
       "    </tr>\n",
       "    <tr>\n",
       "      <th>2022-01-01 00:25:00</th>\n",
       "      <td>-0.993124</td>\n",
       "      <td>0.841631</td>\n",
       "      <td>-0.993124</td>\n",
       "      <td>0.493837</td>\n",
       "    </tr>\n",
       "    <tr>\n",
       "      <th>2022-01-01 00:30:00</th>\n",
       "      <td>0.643314</td>\n",
       "      <td>0.880179</td>\n",
       "      <td>-1.698106</td>\n",
       "      <td>-1.698106</td>\n",
       "    </tr>\n",
       "    <tr>\n",
       "      <th>2022-01-01 00:35:00</th>\n",
       "      <td>0.387280</td>\n",
       "      <td>0.387280</td>\n",
       "      <td>-2.255564</td>\n",
       "      <td>-1.656715</td>\n",
       "    </tr>\n",
       "    <tr>\n",
       "      <th>2022-01-01 00:40:00</th>\n",
       "      <td>-0.985511</td>\n",
       "      <td>1.648135</td>\n",
       "      <td>-1.471835</td>\n",
       "      <td>0.567290</td>\n",
       "    </tr>\n",
       "    <tr>\n",
       "      <th>2022-01-01 00:45:00</th>\n",
       "      <td>-0.222675</td>\n",
       "      <td>-0.222675</td>\n",
       "      <td>-1.616474</td>\n",
       "      <td>-0.761492</td>\n",
       "    </tr>\n",
       "    <tr>\n",
       "      <th>2022-01-01 00:50:00</th>\n",
       "      <td>0.857924</td>\n",
       "      <td>1.466579</td>\n",
       "      <td>-0.598654</td>\n",
       "      <td>-0.598654</td>\n",
       "    </tr>\n",
       "    <tr>\n",
       "      <th>2022-01-01 00:55:00</th>\n",
       "      <td>-1.115897</td>\n",
       "      <td>0.766663</td>\n",
       "      <td>-1.768538</td>\n",
       "      <td>0.355482</td>\n",
       "    </tr>\n",
       "  </tbody>\n",
       "</table>\n",
       "</div>"
      ],
      "text/plain": [
       "                         open      high       low     close\n",
       "2022-01-01 00:00:00 -0.364694  0.578521 -0.764144 -0.764144\n",
       "2022-01-01 00:05:00 -1.437791  1.364532 -1.437791 -0.521189\n",
       "2022-01-01 00:10:00 -1.843070  0.698457 -1.843070  0.698457\n",
       "2022-01-01 00:15:00  0.003771  0.931848 -0.015682  0.160928\n",
       "2022-01-01 00:20:00 -0.190653  0.280442 -1.128011  0.280442\n",
       "2022-01-01 00:25:00 -0.993124  0.841631 -0.993124  0.493837\n",
       "2022-01-01 00:30:00  0.643314  0.880179 -1.698106 -1.698106\n",
       "2022-01-01 00:35:00  0.387280  0.387280 -2.255564 -1.656715\n",
       "2022-01-01 00:40:00 -0.985511  1.648135 -1.471835  0.567290\n",
       "2022-01-01 00:45:00 -0.222675 -0.222675 -1.616474 -0.761492\n",
       "2022-01-01 00:50:00  0.857924  1.466579 -0.598654 -0.598654\n",
       "2022-01-01 00:55:00 -1.115897  0.766663 -1.768538  0.355482"
      ]
     },
     "execution_count": 53,
     "metadata": {},
     "output_type": "execute_result"
    }
   ],
   "source": [
    "ts.resample('5T').ohlc()"
   ]
  },
  {
   "cell_type": "code",
   "execution_count": 57,
   "id": "89cb92f6",
   "metadata": {},
   "outputs": [
    {
     "data": {
      "text/plain": [
       "2022-01-01 00:00:00   -0.364694\n",
       "2022-01-01 00:00:30   -0.364694\n",
       "2022-01-01 00:01:00    0.156704\n",
       "2022-01-01 00:01:30    0.156704\n",
       "2022-01-01 00:02:00    0.578521\n",
       "2022-01-01 00:02:30    0.578521\n",
       "2022-01-01 00:03:00    0.349654\n",
       "2022-01-01 00:03:30    0.349654\n",
       "2022-01-01 00:04:00   -0.764144\n",
       "2022-01-01 00:04:30   -0.764144\n",
       "2022-01-01 00:05:00   -1.437791\n",
       "2022-01-01 00:05:30   -1.437791\n",
       "2022-01-01 00:06:00    1.364532\n",
       "2022-01-01 00:06:30    1.364532\n",
       "2022-01-01 00:07:00   -0.689449\n",
       "2022-01-01 00:07:30   -0.689449\n",
       "2022-01-01 00:08:00   -0.652294\n",
       "2022-01-01 00:08:30   -0.652294\n",
       "2022-01-01 00:09:00   -0.521189\n",
       "2022-01-01 00:09:30   -0.521189\n",
       "Freq: 30S, dtype: float64"
      ]
     },
     "execution_count": 57,
     "metadata": {},
     "output_type": "execute_result"
    }
   ],
   "source": [
    "ts.resample('30s').ffill().head(20)"
   ]
  },
  {
   "cell_type": "code",
   "execution_count": 58,
   "id": "be7c8a8d",
   "metadata": {},
   "outputs": [
    {
     "data": {
      "text/plain": [
       "2022-01-01 00:00:00   -0.364694\n",
       "2022-01-01 00:00:30    0.156704\n",
       "2022-01-01 00:01:00    0.156704\n",
       "2022-01-01 00:01:30    0.578521\n",
       "2022-01-01 00:02:00    0.578521\n",
       "2022-01-01 00:02:30    0.349654\n",
       "2022-01-01 00:03:00    0.349654\n",
       "2022-01-01 00:03:30   -0.764144\n",
       "2022-01-01 00:04:00   -0.764144\n",
       "2022-01-01 00:04:30   -1.437791\n",
       "2022-01-01 00:05:00   -1.437791\n",
       "2022-01-01 00:05:30    1.364532\n",
       "2022-01-01 00:06:00    1.364532\n",
       "2022-01-01 00:06:30   -0.689449\n",
       "2022-01-01 00:07:00   -0.689449\n",
       "2022-01-01 00:07:30   -0.652294\n",
       "2022-01-01 00:08:00   -0.652294\n",
       "2022-01-01 00:08:30   -0.521189\n",
       "2022-01-01 00:09:00   -0.521189\n",
       "2022-01-01 00:09:30   -1.843070\n",
       "Freq: 30S, dtype: float64"
      ]
     },
     "execution_count": 58,
     "metadata": {},
     "output_type": "execute_result"
    }
   ],
   "source": [
    "ts.resample('30s').bfill().head(20)"
   ]
  },
  {
   "cell_type": "code",
   "execution_count": 59,
   "id": "25aeb01e",
   "metadata": {},
   "outputs": [
    {
     "data": {
      "text/plain": [
       "0    2022-12-25\n",
       "1    2022-12-26\n",
       "2    2022-12-27\n",
       "3    2022-12-28\n",
       "4    2022-12-29\n",
       "        ...    \n",
       "95   2023-03-30\n",
       "96   2023-03-31\n",
       "97   2023-04-01\n",
       "98   2023-04-02\n",
       "99   2023-04-03\n",
       "Length: 100, dtype: datetime64[ns]"
      ]
     },
     "execution_count": 59,
     "metadata": {},
     "output_type": "execute_result"
    }
   ],
   "source": [
    "s = pd.Series(pd.date_range(\"2022-12-25\", periods=100, freq=\"D\"))\n",
    "s"
   ]
  },
  {
   "cell_type": "code",
   "execution_count": 60,
   "id": "eda46136",
   "metadata": {},
   "outputs": [
    {
     "data": {
      "text/plain": [
       "0     2022\n",
       "1     2022\n",
       "2     2022\n",
       "3     2022\n",
       "4     2022\n",
       "      ... \n",
       "95    2023\n",
       "96    2023\n",
       "97    2023\n",
       "98    2023\n",
       "99    2023\n",
       "Length: 100, dtype: int64"
      ]
     },
     "execution_count": 60,
     "metadata": {},
     "output_type": "execute_result"
    }
   ],
   "source": [
    "s.dt.year"
   ]
  },
  {
   "cell_type": "code",
   "execution_count": 62,
   "id": "6660196e",
   "metadata": {},
   "outputs": [
    {
     "data": {
      "text/plain": [
       "0     6\n",
       "1     0\n",
       "2     1\n",
       "3     2\n",
       "4     3\n",
       "     ..\n",
       "95    3\n",
       "96    4\n",
       "97    5\n",
       "98    6\n",
       "99    0\n",
       "Length: 100, dtype: int64"
      ]
     },
     "execution_count": 62,
     "metadata": {},
     "output_type": "execute_result"
    }
   ],
   "source": [
    "s.dt.weekday"
   ]
  },
  {
   "cell_type": "code",
   "execution_count": 67,
   "id": "87aa6d15",
   "metadata": {},
   "outputs": [
    {
     "data": {
      "text/plain": [
       "0     2022년 12월 25일\n",
       "1     2022년 12월 26일\n",
       "2     2022년 12월 27일\n",
       "3     2022년 12월 28일\n",
       "4     2022년 12월 29일\n",
       "          ...      \n",
       "95    2023년 03월 30일\n",
       "96    2023년 03월 31일\n",
       "97    2023년 04월 01일\n",
       "98    2023년 04월 02일\n",
       "99    2023년 04월 03일\n",
       "Length: 100, dtype: object"
      ]
     },
     "execution_count": 67,
     "metadata": {},
     "output_type": "execute_result"
    }
   ],
   "source": [
    "s.dt.strftime(\"%Y년 %m월 %d일\")"
   ]
  },
  {
   "cell_type": "code",
   "execution_count": 69,
   "id": "4de8bf6a",
   "metadata": {},
   "outputs": [
    {
     "data": {
      "text/html": [
       "<div>\n",
       "<style scoped>\n",
       "    .dataframe tbody tr th:only-of-type {\n",
       "        vertical-align: middle;\n",
       "    }\n",
       "\n",
       "    .dataframe tbody tr th {\n",
       "        vertical-align: top;\n",
       "    }\n",
       "\n",
       "    .dataframe thead th {\n",
       "        text-align: right;\n",
       "    }\n",
       "</style>\n",
       "<table border=\"1\" class=\"dataframe\">\n",
       "  <thead>\n",
       "    <tr style=\"text-align: right;\">\n",
       "      <th></th>\n",
       "      <th>date</th>\n",
       "      <th>value</th>\n",
       "    </tr>\n",
       "  </thead>\n",
       "  <tbody>\n",
       "    <tr>\n",
       "      <th>0</th>\n",
       "      <td>2020-12-25</td>\n",
       "      <td>44</td>\n",
       "    </tr>\n",
       "    <tr>\n",
       "      <th>1</th>\n",
       "      <td>2020-12-26</td>\n",
       "      <td>47</td>\n",
       "    </tr>\n",
       "    <tr>\n",
       "      <th>2</th>\n",
       "      <td>2020-12-27</td>\n",
       "      <td>64</td>\n",
       "    </tr>\n",
       "    <tr>\n",
       "      <th>3</th>\n",
       "      <td>2020-12-28</td>\n",
       "      <td>67</td>\n",
       "    </tr>\n",
       "    <tr>\n",
       "      <th>4</th>\n",
       "      <td>2020-12-29</td>\n",
       "      <td>67</td>\n",
       "    </tr>\n",
       "    <tr>\n",
       "      <th>...</th>\n",
       "      <td>...</td>\n",
       "      <td>...</td>\n",
       "    </tr>\n",
       "    <tr>\n",
       "      <th>95</th>\n",
       "      <td>2021-03-30</td>\n",
       "      <td>23</td>\n",
       "    </tr>\n",
       "    <tr>\n",
       "      <th>96</th>\n",
       "      <td>2021-03-31</td>\n",
       "      <td>79</td>\n",
       "    </tr>\n",
       "    <tr>\n",
       "      <th>97</th>\n",
       "      <td>2021-04-01</td>\n",
       "      <td>13</td>\n",
       "    </tr>\n",
       "    <tr>\n",
       "      <th>98</th>\n",
       "      <td>2021-04-02</td>\n",
       "      <td>85</td>\n",
       "    </tr>\n",
       "    <tr>\n",
       "      <th>99</th>\n",
       "      <td>2021-04-03</td>\n",
       "      <td>48</td>\n",
       "    </tr>\n",
       "  </tbody>\n",
       "</table>\n",
       "<p>100 rows × 2 columns</p>\n",
       "</div>"
      ],
      "text/plain": [
       "         date  value\n",
       "0  2020-12-25     44\n",
       "1  2020-12-26     47\n",
       "2  2020-12-27     64\n",
       "3  2020-12-28     67\n",
       "4  2020-12-29     67\n",
       "..        ...    ...\n",
       "95 2021-03-30     23\n",
       "96 2021-03-31     79\n",
       "97 2021-04-01     13\n",
       "98 2021-04-02     85\n",
       "99 2021-04-03     48\n",
       "\n",
       "[100 rows x 2 columns]"
      ]
     },
     "execution_count": 69,
     "metadata": {},
     "output_type": "execute_result"
    }
   ],
   "source": [
    "np.random.seed(0)\n",
    "df = pd.DataFrame({\n",
    "    \"date\": pd.date_range(\"2020-12-25\", periods=100, freq=\"D\"), \n",
    "    \"value\": np.random.randint(100, size=(100,))\n",
    "})\n",
    "df"
   ]
  },
  {
   "cell_type": "code",
   "execution_count": 76,
   "id": "11aa133f",
   "metadata": {},
   "outputs": [
    {
     "data": {
      "text/plain": [
       "0    2020-12-25\n",
       "1    2020-12-26\n",
       "2    2020-12-27\n",
       "3    2020-12-28\n",
       "4    2020-12-29\n",
       "        ...    \n",
       "95   2021-03-30\n",
       "96   2021-03-31\n",
       "97   2021-04-01\n",
       "98   2021-04-02\n",
       "99   2021-04-03\n",
       "Name: date, Length: 100, dtype: datetime64[ns]"
      ]
     },
     "execution_count": 76,
     "metadata": {},
     "output_type": "execute_result"
    }
   ],
   "source": [
    "s = pd.Series(df['date'])\n",
    "s"
   ]
  },
  {
   "cell_type": "code",
   "execution_count": 89,
   "id": "c65aa78f",
   "metadata": {},
   "outputs": [
    {
     "name": "stdout",
     "output_type": "stream",
     "text": [
      "7 31 28 31 3\n"
     ]
    }
   ],
   "source": [
    "dec = 0\n",
    "jan = 0\n",
    "feb = 0\n",
    "mar = 0\n",
    "apr = 0\n",
    "for i in range(100):\n",
    "    if s.dt.month[i] == 12:\n",
    "        dec += 1\n",
    "    if s.dt.month[i] == 1:\n",
    "        jan += 1\n",
    "    if s.dt.month[i] == 2:\n",
    "        feb += 1\n",
    "    if s.dt.month[i] == 3:\n",
    "        mar += 1\n",
    "    if s.dt.month[i] == 4:\n",
    "        apr += 1\n",
    "print(dec, jan, feb, mar, apr)"
   ]
  },
  {
   "cell_type": "code",
   "execution_count": 105,
   "id": "2b7144cb",
   "metadata": {},
   "outputs": [
    {
     "data": {
      "text/plain": [
       "0     44\n",
       "1     47\n",
       "2     64\n",
       "3     67\n",
       "4     67\n",
       "      ..\n",
       "95    23\n",
       "96    79\n",
       "97    13\n",
       "98    85\n",
       "99    48\n",
       "Name: value, Length: 100, dtype: int32"
      ]
     },
     "execution_count": 105,
     "metadata": {},
     "output_type": "execute_result"
    }
   ],
   "source": [
    "s2 = pd.Series(df['value'])\n",
    "s2"
   ]
  },
  {
   "cell_type": "code",
   "execution_count": 113,
   "id": "e33a4fee",
   "metadata": {},
   "outputs": [
    {
     "name": "stdout",
     "output_type": "stream",
     "text": [
      "381 1811 985 1500 146\n"
     ]
    }
   ],
   "source": [
    "i = 0\n",
    "decsum =0\n",
    "jansum =0\n",
    "febsum =0\n",
    "marsum =0\n",
    "aprsum =0\n",
    "dec = 7    \n",
    "jan = dec + 31\n",
    "feb = jan +28\n",
    "mar = feb + 31\n",
    "apr = mar + 3\n",
    "while i < dec:\n",
    "    decsum += s2[i]\n",
    "    i += 1\n",
    "while i < jan:\n",
    "    jansum += s2[i]\n",
    "    i += 1\n",
    "while i < feb:\n",
    "    febsum += s2[i]\n",
    "    i += 1\n",
    "while i < mar:\n",
    "    marsum += s2[i]\n",
    "    i += 1\n",
    "while i < apr:\n",
    "    aprsum += s2[i]\n",
    "    i += 1\n",
    "d=decsum/7\n",
    "j=jansum/31\n",
    "f=febsum/28\n",
    "m=marsum/31\n",
    "a=aprsum/3\n",
    "print(decsum,jansum,febsum,marsum,aprsum)"
   ]
  },
  {
   "cell_type": "code",
   "execution_count": 112,
   "id": "59273744",
   "metadata": {},
   "outputs": [
    {
     "data": {
      "text/plain": [
       "month\n",
       "1     1811\n",
       "2      985\n",
       "3     1500\n",
       "4      146\n",
       "12     381\n",
       "Name: value, dtype: int32"
      ]
     },
     "execution_count": 112,
     "metadata": {},
     "output_type": "execute_result"
    }
   ],
   "source": [
    "s = df[\"date\"].squeeze()\n",
    "df_m = s.dt.month.to_frame()\n",
    "df_m.rename(columns={'date':'month'}, inplace=True)\n",
    "#df_m\n",
    "\n",
    "df2 = pd.concat([df, df_m], axis=1)\n",
    "#df2\n",
    "df2.value.groupby(df2.month).sum()"
   ]
  },
  {
   "cell_type": "code",
   "execution_count": 114,
   "id": "c9dac65e",
   "metadata": {},
   "outputs": [
    {
     "data": {
      "text/plain": [
       "month\n",
       "1     1811\n",
       "2      985\n",
       "3     1500\n",
       "4      146\n",
       "12     381\n",
       "Name: value, dtype: int32"
      ]
     },
     "execution_count": 114,
     "metadata": {},
     "output_type": "execute_result"
    }
   ],
   "source": [
    "np.random.seed(0)\n",
    "df=pd.DataFrame({\n",
    "'date': pd.date_range('2020-12-25',periods=100,freq='D'),\n",
    "'value': np.random.randint(100,size=(100,))})\n",
    "df.set_index('date')\n",
    "df['month']=df['date'].dt.month\n",
    "df.groupby('month')['value'].sum()"
   ]
  },
  {
   "cell_type": "code",
   "execution_count": null,
   "id": "3be7f5c9",
   "metadata": {},
   "outputs": [],
   "source": []
  },
  {
   "cell_type": "code",
   "execution_count": null,
   "id": "f0b471b5",
   "metadata": {},
   "outputs": [],
   "source": []
  }
 ],
 "metadata": {
  "kernelspec": {
   "display_name": "Python 3 (ipykernel)",
   "language": "python",
   "name": "python3"
  },
  "language_info": {
   "codemirror_mode": {
    "name": "ipython",
    "version": 3
   },
   "file_extension": ".py",
   "mimetype": "text/x-python",
   "name": "python",
   "nbconvert_exporter": "python",
   "pygments_lexer": "ipython3",
   "version": "3.9.12"
  }
 },
 "nbformat": 4,
 "nbformat_minor": 5
}
