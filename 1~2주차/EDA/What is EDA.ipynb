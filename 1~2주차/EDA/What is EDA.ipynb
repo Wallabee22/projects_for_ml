{
 "cells": [
  {
   "cell_type": "markdown",
   "id": "95ad4acd",
   "metadata": {},
   "source": [
    " ### Exploratory Data Analysis\n",
    " \n",
    " **데이터의 본연의 의미를 찾고자 개발된 탐색적 자료 분석 방법**\n",
    " \n",
    " Process:\n",
    " 1. Reality\n",
    " 2. Raw Data Collected\n",
    " 3. Data Is Processed\n",
    " 4. Clean Dataset > 5 or 6\n",
    " 5. Exploratory Data Analysis > 3 or 6\n",
    " 6. Models & Algorithms\n",
    " 7. Communicate Visualize Report > Make Decision\n",
    " 7. Data Product > Reality\n",
    " \n",
    " \n",
    " 단계 : \n",
    " 1. 문제정의\n",
    " 1. 분석 계획\n",
    " 1. 데이터 관찰\n",
    " 1. 재현\n",
    " 1. 요인 추가/가설 변경\n",
    " 1. 실험\n",
    " \n",
    " * 연구 질문 : 태양광 발전량의 예측 (다양한 변수들과 태양광 발전의 상관관계는 ?)\n",
    " \n",
    "> **양적 질문 유형**\n",
    ">> 서술형, 비교형, 관계형\n",
    "\n",
    "> **질적 질문 유형**\n",
    ">> 탐색적, 예측, 해석적"
   ]
  },
  {
   "cell_type": "markdown",
   "id": "7d85e3f4",
   "metadata": {},
   "source": [
    "### 이상값 발견 기법\n",
    "* 관찰\n",
    "* 통계 활용 (summary statistics)\n",
    "* 시각화 활용\n",
    "* 머신러닝 기법 활용 (Clustering)\n",
    "* 통계 기반 탐지\n",
    "* 편차 기반 방법\n",
    "* 거리 기반 탐지"
   ]
  },
  {
   "cell_type": "markdown",
   "id": "74b9af7f",
   "metadata": {},
   "source": [
    "### 5가지 숫자 요약\n",
    "**통계량으로 중요한 표본 백분위 수 5가지**\n",
    "> * 최대값\n",
    "> * 상위 사분위 수\n",
    "> * 중앙값\n",
    "> * 하위 사분위 수\n",
    "> * 최소값"
   ]
  },
  {
   "cell_type": "markdown",
   "id": "a6f93c35",
   "metadata": {},
   "source": [
    "### 속성 간의 관계 분석\n",
    "#### Categorical Variable (Qualitative)\n",
    "> Nominal Data<br>\n",
    "> Ordinal Data\n",
    "\n",
    "#### Numeric Variable (Quantitative)\n",
    "> Continuous Data<br>\n",
    "> Discrete Data\n",
    "\n",
    "Categorical - Categorical = 교차 테이블, 모자이크 플롯 <br>\n",
    "Numeric - Categorical = 카테고리별 통계 값, 박스 플롯 <br>\n",
    "Numeric - Numeric = 상관계수, 산점도"
   ]
  }
 ],
 "metadata": {
  "kernelspec": {
   "display_name": "Python 3 (ipykernel)",
   "language": "python",
   "name": "python3"
  },
  "language_info": {
   "codemirror_mode": {
    "name": "ipython",
    "version": 3
   },
   "file_extension": ".py",
   "mimetype": "text/x-python",
   "name": "python",
   "nbconvert_exporter": "python",
   "pygments_lexer": "ipython3",
   "version": "3.9.12"
  }
 },
 "nbformat": 4,
 "nbformat_minor": 5
}
